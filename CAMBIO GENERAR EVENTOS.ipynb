{
 "cells": [
  {
   "cell_type": "code",
   "execution_count": 2,
   "metadata": {},
   "outputs": [
    {
     "name": "stdout",
     "output_type": "stream",
     "text": [
      "{'latitude': 6.1773667827946745, 'longitude': -75.55757267664967, 'date': '2023-03-03 19:51:01', 'customer_id': 7189, 'employee_id': 1737, 'quantity_products': 80, 'order_id': 'ecda77eb-a934-4c4d-9ff4-6d9c728d1c82'}\n",
      "{'latitude': 6.26609013574601, 'longitude': -75.59639903728373, 'date': '2021-08-22 19:34:21', 'customer_id': 2082, 'employee_id': 1737, 'quantity_products': 24, 'order_id': 'a04d8b3f-b35d-4185-a1b6-2035072aab58'}\n",
      "{'latitude': 6.234552539159439, 'longitude': -75.58368984484828, 'date': '2022-12-18 00:29:42', 'customer_id': 8235, 'employee_id': 1561, 'quantity_products': 21, 'order_id': '0d15c524-a0d4-4651-806c-da8e5b2bb7f6'}\n",
      "{'latitude': 6.209478095994575, 'longitude': -75.56674632764675, 'date': '2023-03-21 04:51:43', 'customer_id': 8834, 'employee_id': 8362, 'quantity_products': 9, 'order_id': '7bf6b786-cbdb-4a94-a92e-7d0ec95554a9'}\n",
      "{'latitude': 6.27646585827768, 'longitude': -75.58441879944913, 'date': '2022-04-10 11:02:49', 'customer_id': 1299, 'employee_id': 1482, 'quantity_products': 60, 'order_id': '9dce9090-2fb0-4c2a-b3d2-a4f6bc82f18d'}\n",
      "{'latitude': 6.294318223797754, 'longitude': -75.54205225103124, 'date': '2021-04-04 11:17:45', 'customer_id': 3877, 'employee_id': 9438, 'quantity_products': 13, 'order_id': '53d5227c-707d-4f75-9e37-9df15e61f846'}\n",
      "{'latitude': 6.252948942507932, 'longitude': -75.57421564174125, 'date': '2021-02-08 15:39:23', 'customer_id': 3850, 'employee_id': 6696, 'quantity_products': 36, 'order_id': '40907cee-8d63-4509-8a48-09c93cebd7e9'}\n"
     ]
    }
   ],
   "source": [
    "import random\n",
    "import pandas as pd\n",
    "import geopandas as gpd\n",
    "from shapely.geometry import Point\n",
    "from datetime import datetime, timedelta\n",
    "import uuid\n",
    "\n",
    "# Cargar GeoDataFrame\n",
    "gdf = gpd.read_parquet('./base.data/medellin_neighborhoods.parquet')\n",
    "\n",
    "# Cargar employee_id y customer_id desde archivos parquet\n",
    "employees_df = pd.read_parquet('./base.data/employees.parquet')\n",
    "customers_df = pd.read_parquet('./base.data/customers.parquet')\n",
    "\n",
    "employee_ids = employees_df['employee_id'].tolist()\n",
    "customer_ids = customers_df['customer_id'].tolist()\n",
    "\n",
    "def generate_random_point_in_polygon(polygon):\n",
    "    minx, miny, maxx, maxy = polygon.bounds\n",
    "    while True:\n",
    "        pnt = Point(random.uniform(minx, maxx), random.uniform(miny, maxy))\n",
    "        if polygon.contains(pnt):\n",
    "            return pnt\n",
    "\n",
    "def generate_random_date(start_date, end_date):\n",
    "    start_timestamp = int(start_date.timestamp())\n",
    "    end_timestamp = int(end_date.timestamp())\n",
    "    random_timestamp = random.randint(start_timestamp, end_timestamp)\n",
    "    return datetime.fromtimestamp(random_timestamp)\n",
    "\n",
    "def generate_random_event():\n",
    "    polygon = random.choice(gdf['geometry'])\n",
    "    pnt = generate_random_point_in_polygon(polygon)\n",
    "    random_date = generate_random_date(datetime(2021, 1, 1, 0, 0, 0), datetime(2024, 6, 21, 0, 0, 0))\n",
    "    return {\n",
    "        \"latitude\": pnt.y,\n",
    "        \"longitude\": pnt.x,\n",
    "        \"date\": random_date.strftime(\"%Y-%m-%d %H:%M:%S\"),\n",
    "        \"customer_id\": random.choice(customer_ids),\n",
    "        \"employee_id\": random.choice(employee_ids),\n",
    "        \"quantity_products\": random.randint(1, 100),\n",
    "        \"order_id\": str(uuid.uuid4())\n",
    "    }\n",
    "\n",
    "# Generar un evento de ejemplo\n",
    "print(generate_random_event())\n",
    "print(generate_random_event())\n",
    "print(generate_random_event())\n",
    "print(generate_random_event())\n",
    "print(generate_random_event())\n",
    "print(generate_random_event())\n",
    "print(generate_random_event())"
   ]
  },
  {
   "cell_type": "code",
   "execution_count": null,
   "metadata": {},
   "outputs": [],
   "source": []
  }
 ],
 "metadata": {
  "kernelspec": {
   "display_name": "Python 3",
   "language": "python",
   "name": "python3"
  },
  "language_info": {
   "codemirror_mode": {
    "name": "ipython",
    "version": 3
   },
   "file_extension": ".py",
   "mimetype": "text/x-python",
   "name": "python",
   "nbconvert_exporter": "python",
   "pygments_lexer": "ipython3",
   "version": "3.11.5"
  }
 },
 "nbformat": 4,
 "nbformat_minor": 2
}
